{
  "nbformat": 4,
  "nbformat_minor": 0,
  "metadata": {
    "colab": {
      "provenance": [],
      "authorship_tag": "ABX9TyPNKy+bF4EO7pqX/fsMLpXX",
      "include_colab_link": true
    },
    "kernelspec": {
      "name": "python3",
      "display_name": "Python 3"
    },
    "language_info": {
      "name": "python"
    }
  },
  "cells": [
    {
      "cell_type": "markdown",
      "metadata": {
        "id": "view-in-github",
        "colab_type": "text"
      },
      "source": [
        "<a href=\"https://colab.research.google.com/github/dmcghee173268/CS4410/blob/main/fashionMNIST.ipynb\" target=\"_parent\"><img src=\"https://colab.research.google.com/assets/colab-badge.svg\" alt=\"Open In Colab\"/></a>"
      ]
    },
    {
      "cell_type": "code",
      "execution_count": 1,
      "metadata": {
        "id": "1qg5YNcGFmsp"
      },
      "outputs": [],
      "source": [
        "from tensorflow.keras.datasets import fashion_mnist"
      ]
    },
    {
      "cell_type": "code",
      "source": [
        "(X_train, y_train), (X_test, y_test) = fashion_mnist.load_data()"
      ],
      "metadata": {
        "id": "U0PpFY34cJIn"
      },
      "execution_count": 2,
      "outputs": []
    },
    {
      "cell_type": "code",
      "source": [
        "X_train.shape"
      ],
      "metadata": {
        "colab": {
          "base_uri": "https://localhost:8080/",
          "height": 0
        },
        "id": "tAE5LQg8cJOL",
        "outputId": "839b46b8-1859-4d0a-b764-ae077c1f0b60"
      },
      "execution_count": 3,
      "outputs": [
        {
          "output_type": "execute_result",
          "data": {
            "text/plain": [
              "(60000, 28, 28)"
            ]
          },
          "metadata": {},
          "execution_count": 3
        }
      ]
    },
    {
      "cell_type": "code",
      "source": [
        "y_train.shape"
      ],
      "metadata": {
        "colab": {
          "base_uri": "https://localhost:8080/",
          "height": 0
        },
        "id": "TsIyMIOedlgD",
        "outputId": "ee868ad6-1226-410d-e791-832aa64d6a58"
      },
      "execution_count": 4,
      "outputs": [
        {
          "output_type": "execute_result",
          "data": {
            "text/plain": [
              "(60000,)"
            ]
          },
          "metadata": {},
          "execution_count": 4
        }
      ]
    },
    {
      "cell_type": "code",
      "source": [
        "X_test.shape"
      ],
      "metadata": {
        "colab": {
          "base_uri": "https://localhost:8080/",
          "height": 0
        },
        "id": "vebDMLqTcJVP",
        "outputId": "b5b89598-bb14-44b2-9277-fb1afbfb5604"
      },
      "execution_count": 5,
      "outputs": [
        {
          "output_type": "execute_result",
          "data": {
            "text/plain": [
              "(10000, 28, 28)"
            ]
          },
          "metadata": {},
          "execution_count": 5
        }
      ]
    },
    {
      "cell_type": "code",
      "source": [
        "y_test.shape"
      ],
      "metadata": {
        "colab": {
          "base_uri": "https://localhost:8080/",
          "height": 0
        },
        "id": "VgDrZVFLcJYC",
        "outputId": "8cb2c094-73b9-4db2-f360-e555981dc153"
      },
      "execution_count": 6,
      "outputs": [
        {
          "output_type": "execute_result",
          "data": {
            "text/plain": [
              "(10000,)"
            ]
          },
          "metadata": {},
          "execution_count": 6
        }
      ]
    },
    {
      "cell_type": "code",
      "source": [
        "%matplotlib inline "
      ],
      "metadata": {
        "id": "DFtZtl4YcJam"
      },
      "execution_count": 7,
      "outputs": []
    },
    {
      "cell_type": "code",
      "source": [
        "import matplotlib.pyplot as plt\n",
        "import seaborn as sns"
      ],
      "metadata": {
        "id": "Kp1h1qjBcJdZ"
      },
      "execution_count": 8,
      "outputs": []
    },
    {
      "cell_type": "code",
      "source": [
        "sns.set(font_scale=2)"
      ],
      "metadata": {
        "id": "65sCAK6AdSoz"
      },
      "execution_count": 9,
      "outputs": []
    },
    {
      "cell_type": "code",
      "source": [
        "import numpy as np\n",
        "index = np.random.choice(np.arange(len(X_train)), 24, replace=False)\n",
        "figure, axes = plt.subplots(nrows=4, ncols=6, figsize=(16, 9))\n",
        "\n",
        "for item in zip(axes.ravel(), X_train[index], y_train[index]):\n",
        "  axes, image, target = item\n",
        "  axes.imshow(image, cmap=plt.cm.gray_r)\n",
        "  axes.set_xticks([])\n",
        "  axes.set_yticks([])\n",
        "  axes.set_title(target)\n",
        "plt.tight_layout"
      ],
      "metadata": {
        "colab": {
          "base_uri": "https://localhost:8080/",
          "height": 563
        },
        "id": "-BFMEkIhdStY",
        "outputId": "0986f954-ad93-48f6-b113-5656ee375ae9"
      },
      "execution_count": 10,
      "outputs": [
        {
          "output_type": "execute_result",
          "data": {
            "text/plain": [
              "<function matplotlib.pyplot.tight_layout(pad=1.08, h_pad=None, w_pad=None, rect=None)>"
            ]
          },
          "metadata": {},
          "execution_count": 10
        },
        {
          "output_type": "display_data",
          "data": {
            "text/plain": [
              "<Figure size 1152x648 with 24 Axes>"
            ],
            "image/png": "[encoded data removed]"
          },
          "metadata": {}
        }
      ]
    },
    {
      "cell_type": "code",
      "source": [
        "X_train = X_train.reshape((60000, 28, 28, 1))"
      ],
      "metadata": {
        "id": "oPl6wIybdSwT"
      },
      "execution_count": 11,
      "outputs": []
    },
    {
      "cell_type": "code",
      "source": [
        "X_train.shape"
      ],
      "metadata": {
        "colab": {
          "base_uri": "https://localhost:8080/",
          "height": 0
        },
        "id": "nkY4xwn9hN8x",
        "outputId": "e7bf53b1-6e21-4ba5-b972-b3b6cd59b076"
      },
      "execution_count": 12,
      "outputs": [
        {
          "output_type": "execute_result",
          "data": {
            "text/plain": [
              "(60000, 28, 28, 1)"
            ]
          },
          "metadata": {},
          "execution_count": 12
        }
      ]
    },
    {
      "cell_type": "code",
      "source": [
        "X_test = X_test.reshape((10000, 28, 28, 1))"
      ],
      "metadata": {
        "id": "A_RytnTWhOFJ"
      },
      "execution_count": 13,
      "outputs": []
    },
    {
      "cell_type": "code",
      "source": [
        "X_test.shape"
      ],
      "metadata": {
        "colab": {
          "base_uri": "https://localhost:8080/",
          "height": 0
        },
        "id": "sZt_hUNihOJG",
        "outputId": "d969c591-6779-4513-dcfa-9aad2d57ff60"
      },
      "execution_count": 14,
      "outputs": [
        {
          "output_type": "execute_result",
          "data": {
            "text/plain": [
              "(10000, 28, 28, 1)"
            ]
          },
          "metadata": {},
          "execution_count": 14
        }
      ]
    },
    {
      "cell_type": "code",
      "source": [
        "X_train = X_train.astype('float32') / 255"
      ],
      "metadata": {
        "id": "kSWo87hehOMX"
      },
      "execution_count": 15,
      "outputs": []
    },
    {
      "cell_type": "code",
      "source": [
        "X_test = X_test.astype('float32') / 255"
      ],
      "metadata": {
        "id": "hdRqNaZkhOPb"
      },
      "execution_count": 16,
      "outputs": []
    },
    {
      "cell_type": "code",
      "source": [
        "from tensorflow.keras.utils import to_categorical"
      ],
      "metadata": {
        "id": "R7eXHGxqhOSL"
      },
      "execution_count": 17,
      "outputs": []
    },
    {
      "cell_type": "code",
      "source": [
        "y_train = to_categorical(y_train)"
      ],
      "metadata": {
        "id": "DYG5qd6whOUU"
      },
      "execution_count": 18,
      "outputs": []
    },
    {
      "cell_type": "code",
      "source": [
        "y_train.shape"
      ],
      "metadata": {
        "colab": {
          "base_uri": "https://localhost:8080/",
          "height": 0
        },
        "id": "YkyTvxqmmb7U",
        "outputId": "5b4baaa7-082e-4c68-a5f9-a6ba554668a8"
      },
      "execution_count": 19,
      "outputs": [
        {
          "output_type": "execute_result",
          "data": {
            "text/plain": [
              "(60000, 10)"
            ]
          },
          "metadata": {},
          "execution_count": 19
        }
      ]
    },
    {
      "cell_type": "code",
      "source": [
        "y_train[0]"
      ],
      "metadata": {
        "colab": {
          "base_uri": "https://localhost:8080/",
          "height": 0
        },
        "id": "ZrmJq7bYmcAQ",
        "outputId": "fe875569-9c79-46d4-f9a6-cac48d163757"
      },
      "execution_count": 20,
      "outputs": [
        {
          "output_type": "execute_result",
          "data": {
            "text/plain": [
              "array([0., 0., 0., 0., 0., 0., 0., 0., 0., 1.], dtype=float32)"
            ]
          },
          "metadata": {},
          "execution_count": 20
        }
      ]
    },
    {
      "cell_type": "code",
      "source": [
        "y_test = to_categorical(y_test)"
      ],
      "metadata": {
        "id": "9Y8Yr0M8mcCe"
      },
      "execution_count": 21,
      "outputs": []
    },
    {
      "cell_type": "code",
      "source": [
        "y_test.shape"
      ],
      "metadata": {
        "colab": {
          "base_uri": "https://localhost:8080/",
          "height": 0
        },
        "id": "BftQJUNEmcFR",
        "outputId": "ff18ff7d-0945-4eea-f995-33e2da659fcf"
      },
      "execution_count": 22,
      "outputs": [
        {
          "output_type": "execute_result",
          "data": {
            "text/plain": [
              "(10000, 10)"
            ]
          },
          "metadata": {},
          "execution_count": 22
        }
      ]
    },
    {
      "cell_type": "code",
      "source": [
        "from tensorflow.keras.models import Sequential"
      ],
      "metadata": {
        "id": "GAuAUa9nmcID"
      },
      "execution_count": 23,
      "outputs": []
    },
    {
      "cell_type": "code",
      "source": [
        "cnn = Sequential()"
      ],
      "metadata": {
        "id": "YwGleyKUmcKp"
      },
      "execution_count": 24,
      "outputs": []
    },
    {
      "cell_type": "code",
      "source": [
        "from tensorflow.keras.layers import Conv2D, Dense, Flatten, MaxPooling2D"
      ],
      "metadata": {
        "id": "Ma16ADKtmcNT"
      },
      "execution_count": 25,
      "outputs": []
    },
    {
      "cell_type": "code",
      "source": [
        "cnn.add(Conv2D(filters=64, kernel_size=(3, 3), activation='relu', input_shape=(28, 28, 1)))"
      ],
      "metadata": {
        "id": "RA3XnRwqmcQV"
      },
      "execution_count": 26,
      "outputs": []
    },
    {
      "cell_type": "code",
      "source": [
        "cnn.add(MaxPooling2D(pool_size=(2, 2)))"
      ],
      "metadata": {
        "id": "EEIIbxaFByxc"
      },
      "execution_count": 27,
      "outputs": []
    },
    {
      "cell_type": "code",
      "source": [
        "cnn.add(Conv2D(filters=128, kernel_size=(3, 3), activation='relu'))"
      ],
      "metadata": {
        "id": "RhK3O1K8mcTM"
      },
      "execution_count": 28,
      "outputs": []
    },
    {
      "cell_type": "code",
      "source": [
        "cnn.add(MaxPooling2D(pool_size=(2, 2)))"
      ],
      "metadata": {
        "id": "tE9-HYronWeW"
      },
      "execution_count": 29,
      "outputs": []
    },
    {
      "cell_type": "code",
      "source": [
        "cnn.add(Flatten())"
      ],
      "metadata": {
        "id": "9cFsrHeqmcVk"
      },
      "execution_count": 30,
      "outputs": []
    },
    {
      "cell_type": "code",
      "source": [
        "cnn.add(Dense(units=128, activation='relu'))"
      ],
      "metadata": {
        "id": "JXfjPsfrmcXx"
      },
      "execution_count": 31,
      "outputs": []
    },
    {
      "cell_type": "code",
      "source": [
        "cnn.add(Dense(units=10, activation='softmax'))"
      ],
      "metadata": {
        "id": "mX__6-l8noZg"
      },
      "execution_count": 32,
      "outputs": []
    },
    {
      "cell_type": "code",
      "source": [
        "from tensorflow.keras.utils import plot_model\n",
        "from IPython.display import Image\n",
        "plot_model(cnn, to_file='convnet.png', show_shapes=True, show_layer_names=True)\n",
        "Image(filename = 'convnet.png')"
      ],
      "metadata": {
        "colab": {
          "base_uri": "https://localhost:8080/",
          "height": 865
        },
        "id": "FQ_4X6ZgnocX",
        "outputId": "c21f5cb7-3783-4621-ba9d-b54e0a331c11"
      },
      "execution_count": 33,
      "outputs": [
        {
          "output_type": "execute_result",
          "data": {
            "image/png": "[encoded data removed]",
            "text/plain": [
              "<IPython.core.display.Image object>"
            ]
          },
          "metadata": {},
          "execution_count": 33
        }
      ]
    },
    {
      "cell_type": "code",
      "source": [
        "cnn.compile(optimizer='adam', loss='categorical_crossentropy', metrics=['accuracy'])"
      ],
      "metadata": {
        "id": "jT1ld8iXnofX"
      },
      "execution_count": 34,
      "outputs": []
    },
    {
      "cell_type": "code",
      "source": [
        "cnn.fit(X_train, y_train, epochs=5, batch_size=64, validation_split=0.1)"
      ],
      "metadata": {
        "colab": {
          "base_uri": "https://localhost:8080/",
          "height": 0
        },
        "id": "e01AuAxUnoif",
        "outputId": "ea1b2c06-ba00-4b59-9d1f-36217fc62b47"
      },
      "execution_count": 35,
      "outputs": [
        {
          "output_type": "stream",
          "name": "stdout",
          "text": [
            "Epoch 1/5\n",
            "844/844 [==============================] - 111s 130ms/step - loss: 0.4701 - accuracy: 0.8290 - val_loss: 0.3524 - val_accuracy: 0.8692\n",
            "Epoch 2/5\n",
            "844/844 [==============================] - 109s 129ms/step - loss: 0.3079 - accuracy: 0.8887 - val_loss: 0.3013 - val_accuracy: 0.8877\n",
            "Epoch 3/5\n",
            "844/844 [==============================] - 107s 127ms/step - loss: 0.2590 - accuracy: 0.9059 - val_loss: 0.2664 - val_accuracy: 0.9028\n",
            "Epoch 4/5\n",
            "844/844 [==============================] - 107s 127ms/step - loss: 0.2276 - accuracy: 0.9154 - val_loss: 0.2518 - val_accuracy: 0.9108\n",
            "Epoch 5/5\n",
            "844/844 [==============================] - 108s 128ms/step - loss: 0.2003 - accuracy: 0.9253 - val_loss: 0.2417 - val_accuracy: 0.9103\n"
          ]
        },
        {
          "output_type": "execute_result",
          "data": {
            "text/plain": [
              "<keras.callbacks.History at 0x7f7261e85090>"
            ]
          },
          "metadata": {},
          "execution_count": 35
        }
      ]
    },
    {
      "cell_type": "code",
      "source": [
        "loss, accuracy = cnn.evaluate(X_test, y_test)"
      ],
      "metadata": {
        "id": "s9AEBQbwnolg",
        "colab": {
          "base_uri": "https://localhost:8080/",
          "height": 0
        },
        "outputId": "bab22a2b-7b46-4dad-fa17-5ebd873b3c8e"
      },
      "execution_count": 36,
      "outputs": [
        {
          "output_type": "stream",
          "name": "stdout",
          "text": [
            "313/313 [==============================] - 6s 18ms/step - loss: 0.2580 - accuracy: 0.9036\n"
          ]
        }
      ]
    },
    {
      "cell_type": "code",
      "source": [
        "loss"
      ],
      "metadata": {
        "id": "_Ewo-kMunon7",
        "colab": {
          "base_uri": "https://localhost:8080/",
          "height": 0
        },
        "outputId": "db6c5f56-0a2a-4934-83b7-15764084dc17"
      },
      "execution_count": 37,
      "outputs": [
        {
          "output_type": "execute_result",
          "data": {
            "text/plain": [
              "0.25797170400619507"
            ]
          },
          "metadata": {},
          "execution_count": 37
        }
      ]
    },
    {
      "cell_type": "code",
      "source": [
        "accuracy"
      ],
      "metadata": {
        "id": "qTkQJA_ggSWD",
        "colab": {
          "base_uri": "https://localhost:8080/",
          "height": 0
        },
        "outputId": "3b561105-c7d7-4fc6-d0f9-876c9fe1e3c0"
      },
      "execution_count": 38,
      "outputs": [
        {
          "output_type": "execute_result",
          "data": {
            "text/plain": [
              "0.9035999774932861"
            ]
          },
          "metadata": {},
          "execution_count": 38
        }
      ]
    },
    {
      "cell_type": "code",
      "source": [
        "predictions = cnn.predict(X_test)"
      ],
      "metadata": {
        "id": "gj43-nUJgU1g"
      },
      "execution_count": 39,
      "outputs": []
    },
    {
      "cell_type": "code",
      "source": [
        "y_test[0]"
      ],
      "metadata": {
        "id": "4goo145ogU6x",
        "colab": {
          "base_uri": "https://localhost:8080/",
          "height": 0
        },
        "outputId": "cb291f0e-9466-4988-a24f-b82033fb86d5"
      },
      "execution_count": 40,
      "outputs": [
        {
          "output_type": "execute_result",
          "data": {
            "text/plain": [
              "array([0., 0., 0., 0., 0., 0., 0., 0., 0., 1.], dtype=float32)"
            ]
          },
          "metadata": {},
          "execution_count": 40
        }
      ]
    },
    {
      "cell_type": "code",
      "source": [
        "for index, probability in enumerate(predictions[0]):\n",
        "  print(f'{index}: {probability:.10%}')"
      ],
      "metadata": {
        "id": "BOVzDRfPgU-D",
        "colab": {
          "base_uri": "https://localhost:8080/",
          "height": 0
        },
        "outputId": "249d1a12-e3a2-49e5-9e20-ac3146e79a5a"
      },
      "execution_count": 41,
      "outputs": [
        {
          "output_type": "stream",
          "name": "stdout",
          "text": [
            "0: 0.0000148978%\n",
            "1: 0.0000095992%\n",
            "2: 0.0002816932%\n",
            "3: 0.0000001012%\n",
            "4: 0.0000260788%\n",
            "5: 0.0086263222%\n",
            "6: 0.0000008376%\n",
            "7: 0.0313440716%\n",
            "8: 0.0000055950%\n",
            "9: 99.9597012997%\n"
          ]
        }
      ]
    },
    {
      "cell_type": "code",
      "source": [
        "images = X_test.reshape((10000, 28, 28))\n",
        "incorrect_predictions = []\n",
        "\n",
        "for i, (p, e) in enumerate(zip(predictions, y_test)):\n",
        "  predicted, expected = np.argmax(p), np.argmax(e)\n",
        "\n",
        "if predicted != expected:\n",
        "  incorrect_predictions.append(\n",
        "      (i, images[i], predicted, expected))"
      ],
      "metadata": {
        "id": "UqnV6z6dgVB8"
      },
      "execution_count": 42,
      "outputs": []
    },
    {
      "cell_type": "code",
      "source": [
        "len(incorrect_predictions)"
      ],
      "metadata": {
        "id": "kQDA1OxwgVFh",
        "colab": {
          "base_uri": "https://localhost:8080/",
          "height": 0
        },
        "outputId": "8231fe7d-7cd1-47da-c4f9-ea5f8611728d"
      },
      "execution_count": 43,
      "outputs": [
        {
          "output_type": "execute_result",
          "data": {
            "text/plain": [
              "0"
            ]
          },
          "metadata": {},
          "execution_count": 43
        }
      ]
    },
    {
      "cell_type": "code",
      "source": [
        "figure, axes = plt.subplots(nrows=4, ncols=6, figsize=(16,12))\n",
        "\n",
        "for axes, item in zip(axes.ravel(), incorrect_predictions):\n",
        "  index, image, predicted, expected = item\n",
        "  axes.imshow(image, cmap=plt.cm.gray_r)\n",
        "  axes.set_xticks([])\n",
        "  axes.set_yticks([])\n",
        "  axes.set_title(\n",
        "      f'index: {index}\\np: {predicted}; e: {expected}')\n",
        "plt.tight_layout()"
      ],
      "metadata": {
        "id": "QOG9uwNggVJF",
        "colab": {
          "base_uri": "https://localhost:8080/",
          "height": 843
        },
        "outputId": "3e486d08-7c0d-4040-ccbf-6be7282a5f1e"
      },
      "execution_count": 44,
      "outputs": [
        {
          "output_type": "display_data",
          "data": {
            "text/plain": [
              "<Figure size 1152x864 with 24 Axes>"
            ],
            "image/png": "[encoded data removed]"
          },
          "metadata": {}
        }
      ]
    },
    {
      "cell_type": "code",
      "source": [
        "def display_probabilities(prediction):\n",
        "  for index, probability in enumerate(prediction):\n",
        "    print(f'{index}: {probability:.10%}')"
      ],
      "metadata": {
        "id": "AO70WAzJgVM_"
      },
      "execution_count": 45,
      "outputs": []
    },
    {
      "cell_type": "code",
      "source": [
        "display_probabilities(predictions[495])"
      ],
      "metadata": {
        "id": "Ugh5lNMi9p8q",
        "colab": {
          "base_uri": "https://localhost:8080/",
          "height": 0
        },
        "outputId": "7c552b3f-7f55-438b-dd2f-6da4b35945e3"
      },
      "execution_count": 46,
      "outputs": [
        {
          "output_type": "stream",
          "name": "stdout",
          "text": [
            "0: 0.0001886491%\n",
            "1: 0.0000040836%\n",
            "2: 0.0001712152%\n",
            "3: 0.0002249903%\n",
            "4: 0.0002116501%\n",
            "5: 86.4263117313%\n",
            "6: 0.0002393160%\n",
            "7: 0.0133714362%\n",
            "8: 0.0002501803%\n",
            "9: 13.5590210557%\n"
          ]
        }
      ]
    },
    {
      "cell_type": "code",
      "source": [
        "display_probabilities(predictions[583])"
      ],
      "metadata": {
        "id": "Hwcxa4ak9qCX",
        "colab": {
          "base_uri": "https://localhost:8080/",
          "height": 0
        },
        "outputId": "e178edb5-8936-4899-a4ca-4c668994a495"
      },
      "execution_count": 47,
      "outputs": [
        {
          "output_type": "stream",
          "name": "stdout",
          "text": [
            "0: 0.0000000312%\n",
            "1: 0.0000000005%\n",
            "2: 0.0000001623%\n",
            "3: 0.0000000074%\n",
            "4: 0.0000009632%\n",
            "5: 0.0000125483%\n",
            "6: 0.0000000006%\n",
            "7: 0.0126903527%\n",
            "8: 0.0000130817%\n",
            "9: 99.9872803688%\n"
          ]
        }
      ]
    },
    {
      "cell_type": "code",
      "source": [
        "display_probabilities(predictions[625])"
      ],
      "metadata": {
        "id": "byLWCjV69qHX",
        "colab": {
          "base_uri": "https://localhost:8080/",
          "height": 0
        },
        "outputId": "b7a62144-af5f-4423-d420-35c9a1d30957"
      },
      "execution_count": 48,
      "outputs": [
        {
          "output_type": "stream",
          "name": "stdout",
          "text": [
            "0: 98.9170372486%\n",
            "1: 0.0000330693%\n",
            "2: 0.0149645261%\n",
            "3: 0.0015204787%\n",
            "4: 0.0000728079%\n",
            "5: 0.0000515850%\n",
            "6: 1.0652727447%\n",
            "7: 0.0000011489%\n",
            "8: 0.0010218325%\n",
            "9: 0.0000234039%\n"
          ]
        }
      ]
    }
  ]
}